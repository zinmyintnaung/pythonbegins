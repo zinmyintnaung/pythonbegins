{
 "cells": [
  {
   "cell_type": "code",
   "execution_count": 38,
   "metadata": {},
   "outputs": [
    {
     "name": "stdout",
     "output_type": "stream",
     "text": [
      "OrderedDict([('account_key', '1304'), ('status', 'canceled'), ('join_date', '2015-01-10'), ('cancel_date', '2015-03-10'), ('days_to_cancel', '59'), ('is_udacity', 'True'), ('is_canceled', 'True')])\n",
      "OrderedDict([('account_key', '1304'), ('status', 'canceled'), ('join_date', '2015-03-10'), ('cancel_date', '2015-06-17'), ('days_to_cancel', '99'), ('is_udacity', 'True'), ('is_canceled', 'True')])\n",
      "OrderedDict([('account_key', '1101'), ('status', 'current'), ('join_date', '2015-02-25'), ('cancel_date', ''), ('days_to_cancel', ''), ('is_udacity', 'True'), ('is_canceled', 'False')])\n",
      "3\n"
     ]
    }
   ],
   "source": [
    "import unicodecsv\n",
    "\n",
    "def read_csv(filename):\n",
    "    with open(filename, 'rb') as f:\n",
    "        reader = unicodecsv.DictReader(f)\n",
    "        return list(reader)\n",
    "\n",
    "enrollments = read_csv('enrollments.csv')\n",
    "daily_engagement = read_csv('daily_engagement.csv')\n",
    "project_submissions = read_csv('project_submissions.csv')\n",
    "    \n",
    "### For each of these three tables, find the number of rows in the table and\n",
    "### the number of unique students in the table. To find the number of unique\n",
    "### students, you might want to create a set of the account keys in each table.\n",
    "\n",
    "enrollment_num_rows = len(enrollments)\n",
    "### create a set first\n",
    "unique_enrolled_students = set()\n",
    "for enrollment in enrollments:\n",
    "    unique_enrolled_students.add(enrollment['account_key'])\n",
    "enrollment_num_unique_students = len(unique_enrolled_students)\n",
    "\n",
    "engagement_num_rows = len(daily_engagement)\n",
    "### create a set first\n",
    "unique_engagement_students = set()\n",
    "for engagement in daily_engagement:\n",
    "    engagement['account_key'] = engagement['acct'] ### create \n",
    "    del engagement['acct']\n",
    "    unique_engagement_students.add(engagement['account_key'])\n",
    "engagement_num_unique_students = len(unique_engagement_students)\n",
    "\n",
    "submission_num_rows = len(project_submissions)\n",
    "### create a set first\n",
    "unique_submission_students = set()\n",
    "for submission in project_submissions:\n",
    "    unique_submission_students.add(submission['account_key'])\n",
    "submission_num_unique_students = len(unique_submission_students)\n",
    "\n",
    "i = 0\n",
    "for enrollment in enrollments:\n",
    "    student = enrollment['account_key']\n",
    "    if student not in unique_engagement_students:\n",
    "        if enrollment['join_date'] < enrollment['cancel_date']:\n",
    "            print(enrollment)\n",
    "            i = i +1\n",
    "        if enrollment['is_canceled'] == 'False':\n",
    "            print(enrollment)\n",
    "            i = i + 1\n",
    "print(i)"
   ]
  },
  {
   "cell_type": "code",
   "execution_count": null,
   "metadata": {},
   "outputs": [],
   "source": []
  }
 ],
 "metadata": {
  "kernelspec": {
   "display_name": "Python 3",
   "language": "python",
   "name": "python3"
  },
  "language_info": {
   "codemirror_mode": {
    "name": "ipython",
    "version": 3
   },
   "file_extension": ".py",
   "mimetype": "text/x-python",
   "name": "python",
   "nbconvert_exporter": "python",
   "pygments_lexer": "ipython3",
   "version": "3.6.4"
  }
 },
 "nbformat": 4,
 "nbformat_minor": 2
}
